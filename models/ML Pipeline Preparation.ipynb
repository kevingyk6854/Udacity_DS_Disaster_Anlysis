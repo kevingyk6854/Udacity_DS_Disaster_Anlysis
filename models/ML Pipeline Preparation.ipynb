{
 "cells": [
  {
   "cell_type": "markdown",
   "metadata": {},
   "source": [
    "# ML Pipeline Preparation\n",
    "Follow the instructions below to help you create your ML pipeline.\n",
    "### 1. Import libraries and load data from database.\n",
    "- Import Python libraries\n",
    "- Load dataset from database with [`read_sql_table`](https://pandas.pydata.org/pandas-docs/stable/generated/pandas.read_sql_table.html)\n",
    "- Define feature and target variables X and Y"
   ]
  },
  {
   "cell_type": "code",
   "execution_count": 159,
   "metadata": {},
   "outputs": [
    {
     "name": "stderr",
     "output_type": "stream",
     "text": [
      "[nltk_data] Downloading package punkt to /Users/kevin/nltk_data...\n",
      "[nltk_data]   Package punkt is already up-to-date!\n",
      "[nltk_data] Downloading package wordnet to /Users/kevin/nltk_data...\n",
      "[nltk_data]   Package wordnet is already up-to-date!\n",
      "[nltk_data] Downloading package punkt to /Users/kevin/nltk_data...\n",
      "[nltk_data]   Package punkt is already up-to-date!\n",
      "[nltk_data] Downloading package wordnet to /Users/kevin/nltk_data...\n",
      "[nltk_data]   Package wordnet is already up-to-date!\n",
      "[nltk_data] Downloading package stopwords to /Users/kevin/nltk_data...\n",
      "[nltk_data]   Unzipping corpora/stopwords.zip.\n"
     ]
    }
   ],
   "source": [
    "# import libraries\n",
    "import pandas as pd\n",
    "pd.set_option('display.max_columns',None)\n",
    "pd.set_option('display.max_rows',None)\n",
    "# pd.set_option('max_colwidth',200)\n",
    "pd.set_option('expand_frame_repr', False)\n",
    "\n",
    "from sqlalchemy import create_engine\n",
    "\n",
    "import nltk\n",
    "nltk.download(['punkt', 'wordnet'])\n",
    "\n",
    "import re\n",
    "import numpy as np\n",
    "\n",
    "import nltk\n",
    "from nltk.corpus import stopwords\n",
    "from nltk.tokenize import word_tokenize\n",
    "from nltk.stem import WordNetLemmatizer\n",
    "from nltk.stem import PorterStemmer\n",
    "nltk.download(['punkt', 'wordnet', 'stopwords'])\n",
    "\n",
    "from sklearn.metrics import confusion_matrix\n",
    "from sklearn.model_selection import train_test_split\n",
    "from sklearn.ensemble import RandomForestClassifier\n",
    "from sklearn.multioutput import MultiOutputClassifier\n",
    "from sklearn.feature_extraction.text import CountVectorizer, TfidfTransformer"
   ]
  },
  {
   "cell_type": "code",
   "execution_count": 134,
   "metadata": {},
   "outputs": [],
   "source": [
    "from sklearn.pipeline import Pipeline\n",
    "from sklearn.multioutput import MultiOutputClassifier\n",
    "from sklearn.model_selection import GridSearchCV\n",
    "\n",
    "from sklearn.metrics import classification_report\n",
    "from sklearn.metrics import confusion_matrix"
   ]
  },
  {
   "cell_type": "code",
   "execution_count": 121,
   "metadata": {},
   "outputs": [],
   "source": [
    "# load data from database\n",
    "engine = create_engine('sqlite:///InsertDatabaseName.db')\n",
    "df = pd.read_sql_table('InsertTableName', engine)  \n",
    "# df.head()\n",
    "\n",
    "X = df['message']\n",
    "# y = df.iloc[:,4:]\n",
    "y = df.iloc[:,5:]\n",
    "\n",
    "# question: col - related has class in 2 which will cause error in model evaluation"
   ]
  },
  {
   "cell_type": "code",
   "execution_count": 122,
   "metadata": {},
   "outputs": [
    {
     "name": "stdout",
     "output_type": "stream",
     "text": [
      "<class 'pandas.core.frame.DataFrame'>\n",
      "RangeIndex: 103 entries, 0 to 102\n",
      "Data columns (total 40 columns):\n",
      " #   Column                  Non-Null Count  Dtype \n",
      "---  ------                  --------------  ----- \n",
      " 0   id                      103 non-null    int64 \n",
      " 1   message                 103 non-null    object\n",
      " 2   original                48 non-null     object\n",
      " 3   genre                   103 non-null    object\n",
      " 4   related                 103 non-null    int64 \n",
      " 5   request                 103 non-null    int64 \n",
      " 6   offer                   103 non-null    int64 \n",
      " 7   aid_related             103 non-null    int64 \n",
      " 8   medical_help            103 non-null    int64 \n",
      " 9   medical_products        103 non-null    int64 \n",
      " 10  search_and_rescue       103 non-null    int64 \n",
      " 11  security                103 non-null    int64 \n",
      " 12  military                103 non-null    int64 \n",
      " 13  child_alone             103 non-null    int64 \n",
      " 14  water                   103 non-null    int64 \n",
      " 15  food                    103 non-null    int64 \n",
      " 16  shelter                 103 non-null    int64 \n",
      " 17  clothing                103 non-null    int64 \n",
      " 18  money                   103 non-null    int64 \n",
      " 19  missing_people          103 non-null    int64 \n",
      " 20  refugees                103 non-null    int64 \n",
      " 21  death                   103 non-null    int64 \n",
      " 22  other_aid               103 non-null    int64 \n",
      " 23  infrastructure_related  103 non-null    int64 \n",
      " 24  transport               103 non-null    int64 \n",
      " 25  buildings               103 non-null    int64 \n",
      " 26  electricity             103 non-null    int64 \n",
      " 27  tools                   103 non-null    int64 \n",
      " 28  hospitals               103 non-null    int64 \n",
      " 29  shops                   103 non-null    int64 \n",
      " 30  aid_centers             103 non-null    int64 \n",
      " 31  other_infrastructure    103 non-null    int64 \n",
      " 32  weather_related         103 non-null    int64 \n",
      " 33  floods                  103 non-null    int64 \n",
      " 34  storm                   103 non-null    int64 \n",
      " 35  fire                    103 non-null    int64 \n",
      " 36  earthquake              103 non-null    int64 \n",
      " 37  cold                    103 non-null    int64 \n",
      " 38  other_weather           103 non-null    int64 \n",
      " 39  direct_report           103 non-null    int64 \n",
      "dtypes: int64(37), object(3)\n",
      "memory usage: 32.3+ KB\n"
     ]
    }
   ],
   "source": [
    "df.info()"
   ]
  },
  {
   "cell_type": "markdown",
   "metadata": {},
   "source": [
    "## 2. Write a tokenization function to process your text data"
   ]
  },
  {
   "cell_type": "code",
   "execution_count": 10,
   "metadata": {},
   "outputs": [],
   "source": [
    "def tokenize(text):\n",
    "    \n",
    "    # 1. remove url and replace url string as 'urlplaceholder'\n",
    "    url_regex = 'http[s]?://(?:[a-zA-Z]|[0-9]|[$-_@.&+]|[!*\\(\\),]|(?:%[0-9a-fA-F][0-9a-fA-F]))+'\n",
    "    \n",
    "    detected_urls = re.findall(url_regex, text)\n",
    "    for url in detected_urls:\n",
    "        text = text.replace(url, \"urlplaceholder\")\n",
    "\n",
    "    # 2. work tokenization\n",
    "    tokens = word_tokenize(text)\n",
    "    lemmatizer = WordNetLemmatizer() # lemmatization method\n",
    "\n",
    "    clean_tokens = []\n",
    "    for tok in tokens:\n",
    "        \n",
    "        # 3. converting lowercase and removing space in tokens\n",
    "        clean_tok = lemmatizer.lemmatize(tok).lower().strip()\n",
    "        clean_tokens.append(clean_tok)\n",
    "\n",
    "    return clean_tokens"
   ]
  },
  {
   "cell_type": "markdown",
   "metadata": {},
   "source": [
    "### 3. Build a machine learning pipeline\n",
    "This machine pipeline should take in the `message` column as input and output classification results on the other 36 categories in the dataset. You may find the [MultiOutputClassifier](http://scikit-learn.org/stable/modules/generated/sklearn.multioutput.MultiOutputClassifier.html) helpful for predicting multiple target variables."
   ]
  },
  {
   "cell_type": "code",
   "execution_count": 23,
   "metadata": {},
   "outputs": [],
   "source": [
    "pipeline = Pipeline([\n",
    "        ('vect', CountVectorizer(tokenizer=tokenize)),\n",
    "        ('tfidf', TfidfTransformer()),\n",
    "        ('clf', MultiOutputClassifier(RandomForestClassifier()))\n",
    "    ])"
   ]
  },
  {
   "cell_type": "code",
   "execution_count": 103,
   "metadata": {},
   "outputs": [
    {
     "data": {
      "text/plain": [
       "{'memory': None,\n",
       " 'steps': [('vect',\n",
       "   CountVectorizer(tokenizer=<function tokenize at 0x7fce0fbc8ee0>)),\n",
       "  ('tfidf', TfidfTransformer()),\n",
       "  ('clf', MultiOutputClassifier(estimator=RandomForestClassifier()))],\n",
       " 'verbose': False,\n",
       " 'vect': CountVectorizer(tokenizer=<function tokenize at 0x7fce0fbc8ee0>),\n",
       " 'tfidf': TfidfTransformer(),\n",
       " 'clf': MultiOutputClassifier(estimator=RandomForestClassifier()),\n",
       " 'vect__analyzer': 'word',\n",
       " 'vect__binary': False,\n",
       " 'vect__decode_error': 'strict',\n",
       " 'vect__dtype': numpy.int64,\n",
       " 'vect__encoding': 'utf-8',\n",
       " 'vect__input': 'content',\n",
       " 'vect__lowercase': True,\n",
       " 'vect__max_df': 1.0,\n",
       " 'vect__max_features': None,\n",
       " 'vect__min_df': 1,\n",
       " 'vect__ngram_range': (1, 1),\n",
       " 'vect__preprocessor': None,\n",
       " 'vect__stop_words': None,\n",
       " 'vect__strip_accents': None,\n",
       " 'vect__token_pattern': '(?u)\\\\b\\\\w\\\\w+\\\\b',\n",
       " 'vect__tokenizer': <function __main__.tokenize(text)>,\n",
       " 'vect__vocabulary': None,\n",
       " 'tfidf__norm': 'l2',\n",
       " 'tfidf__smooth_idf': True,\n",
       " 'tfidf__sublinear_tf': False,\n",
       " 'tfidf__use_idf': True,\n",
       " 'clf__estimator__bootstrap': True,\n",
       " 'clf__estimator__ccp_alpha': 0.0,\n",
       " 'clf__estimator__class_weight': None,\n",
       " 'clf__estimator__criterion': 'gini',\n",
       " 'clf__estimator__max_depth': None,\n",
       " 'clf__estimator__max_features': 'auto',\n",
       " 'clf__estimator__max_leaf_nodes': None,\n",
       " 'clf__estimator__max_samples': None,\n",
       " 'clf__estimator__min_impurity_decrease': 0.0,\n",
       " 'clf__estimator__min_impurity_split': None,\n",
       " 'clf__estimator__min_samples_leaf': 1,\n",
       " 'clf__estimator__min_samples_split': 2,\n",
       " 'clf__estimator__min_weight_fraction_leaf': 0.0,\n",
       " 'clf__estimator__n_estimators': 100,\n",
       " 'clf__estimator__n_jobs': None,\n",
       " 'clf__estimator__oob_score': False,\n",
       " 'clf__estimator__random_state': None,\n",
       " 'clf__estimator__verbose': 0,\n",
       " 'clf__estimator__warm_start': False,\n",
       " 'clf__estimator': RandomForestClassifier(),\n",
       " 'clf__n_jobs': None}"
      ]
     },
     "execution_count": 103,
     "metadata": {},
     "output_type": "execute_result"
    }
   ],
   "source": [
    "pipeline.get_params()"
   ]
  },
  {
   "cell_type": "markdown",
   "metadata": {},
   "source": [
    "### 4. Train pipeline\n",
    "- Split data into train and test sets\n",
    "- Train pipeline"
   ]
  },
  {
   "cell_type": "code",
   "execution_count": 123,
   "metadata": {},
   "outputs": [
    {
     "data": {
      "text/plain": [
       "Pipeline(steps=[('vect',\n",
       "                 CountVectorizer(tokenizer=<function tokenize at 0x7fce0fbc8ee0>)),\n",
       "                ('tfidf', TfidfTransformer()),\n",
       "                ('clf',\n",
       "                 MultiOutputClassifier(estimator=RandomForestClassifier()))])"
      ]
     },
     "execution_count": 123,
     "metadata": {},
     "output_type": "execute_result"
    }
   ],
   "source": [
    "X_train, X_test, y_train, y_test = train_test_split(X, y, test_size=0.25)\n",
    "\n",
    "# train classifier (pipeline)\n",
    "pipeline.fit(X_train, y_train)"
   ]
  },
  {
   "cell_type": "markdown",
   "metadata": {},
   "source": [
    "### 5. Test your model\n",
    "Report the f1 score, precision and recall for each output category of the dataset. You can do this by iterating through the columns and calling sklearn's `classification_report` on each."
   ]
  },
  {
   "cell_type": "code",
   "execution_count": 124,
   "metadata": {},
   "outputs": [],
   "source": [
    "from sklearn.metrics import f1_score\n",
    "from sklearn.metrics import recall_score\n",
    "from sklearn.metrics import precision_score"
   ]
  },
  {
   "cell_type": "code",
   "execution_count": 125,
   "metadata": {},
   "outputs": [],
   "source": [
    "y_true = y_test.values\n",
    "# predict on test data\n",
    "y_pred = pipeline.predict(X_test)"
   ]
  },
  {
   "cell_type": "code",
   "execution_count": 128,
   "metadata": {},
   "outputs": [
    {
     "data": {
      "text/plain": [
       "array(['request', 'offer', 'aid_related', 'medical_help',\n",
       "       'medical_products', 'search_and_rescue', 'security', 'military',\n",
       "       'child_alone', 'water', 'food', 'shelter', 'clothing', 'money',\n",
       "       'missing_people', 'refugees', 'death', 'other_aid',\n",
       "       'infrastructure_related', 'transport', 'buildings', 'electricity',\n",
       "       'tools', 'hospitals', 'shops', 'aid_centers',\n",
       "       'other_infrastructure', 'weather_related', 'floods', 'storm',\n",
       "       'fire', 'earthquake', 'cold', 'other_weather', 'direct_report'],\n",
       "      dtype=object)"
      ]
     },
     "execution_count": 128,
     "metadata": {},
     "output_type": "execute_result"
    }
   ],
   "source": [
    "y_test.columns.values"
   ]
  },
  {
   "cell_type": "code",
   "execution_count": 140,
   "metadata": {},
   "outputs": [
    {
     "name": "stdout",
     "output_type": "stream",
     "text": [
      "Random Forest Classifer on Train set\n",
      "                        precision    recall  f1-score   support\n",
      "\n",
      "               request       0.94      0.85      0.89        20\n",
      "                 offer       1.00      1.00      1.00         1\n",
      "           aid_related       0.93      1.00      0.96        41\n",
      "          medical_help       1.00      0.67      0.80         6\n",
      "      medical_products       1.00      1.00      1.00         3\n",
      "     search_and_rescue       1.00      1.00      1.00         1\n",
      "              security       0.00      0.00      0.00         0\n",
      "              military       0.50      0.50      0.50         2\n",
      "           child_alone       0.00      0.00      0.00         0\n",
      "                 water       1.00      1.00      1.00         6\n",
      "                  food       1.00      1.00      1.00        16\n",
      "               shelter       1.00      0.89      0.94         9\n",
      "              clothing       1.00      1.00      1.00         3\n",
      "                 money       1.00      1.00      1.00         2\n",
      "        missing_people       1.00      1.00      1.00         1\n",
      "              refugees       1.00      1.00      1.00         2\n",
      "                 death       1.00      1.00      1.00         4\n",
      "             other_aid       1.00      0.73      0.84        11\n",
      "infrastructure_related       0.00      0.00      0.00         2\n",
      "             transport       1.00      0.83      0.91         6\n",
      "             buildings       1.00      0.67      0.80         6\n",
      "           electricity       1.00      1.00      1.00         2\n",
      "                 tools       0.00      0.00      0.00         0\n",
      "             hospitals       0.00      0.00      0.00         0\n",
      "                 shops       0.00      0.00      0.00         0\n",
      "           aid_centers       0.00      0.00      0.00         0\n",
      "  other_infrastructure       0.00      0.00      0.00         2\n",
      "       weather_related       1.00      0.92      0.96        25\n",
      "                floods       1.00      0.92      0.96        13\n",
      "                 storm       0.90      0.90      0.90        10\n",
      "                  fire       0.00      0.00      0.00         0\n",
      "            earthquake       1.00      1.00      1.00         4\n",
      "                  cold       1.00      1.00      1.00         1\n",
      "         other_weather       0.00      0.00      0.00         2\n",
      "         direct_report       0.93      0.78      0.85        18\n",
      "\n",
      "             micro avg       0.96      0.88      0.92       219\n",
      "             macro avg       0.69      0.65      0.67       219\n",
      "          weighted avg       0.94      0.88      0.90       219\n",
      "           samples avg       0.70      0.65      0.66       219\n",
      "\n",
      "Random Forest Classifer on Test set\n",
      "                        precision    recall  f1-score   support\n",
      "\n",
      "               request       0.57      0.57      0.57         7\n",
      "                 offer       0.00      0.00      0.00         0\n",
      "           aid_related       0.92      0.86      0.89        14\n",
      "          medical_help       1.00      0.33      0.50         3\n",
      "      medical_products       0.00      0.00      0.00         1\n",
      "     search_and_rescue       0.00      0.00      0.00         0\n",
      "              security       0.00      0.00      0.00         0\n",
      "              military       0.00      0.00      0.00         1\n",
      "           child_alone       0.00      0.00      0.00         0\n",
      "                 water       1.00      0.50      0.67         2\n",
      "                  food       1.00      0.33      0.50         3\n",
      "               shelter       1.00      0.33      0.50         6\n",
      "              clothing       0.00      0.00      0.00         0\n",
      "                 money       0.00      0.00      0.00         0\n",
      "        missing_people       0.00      0.00      0.00         0\n",
      "              refugees       0.00      0.00      0.00         1\n",
      "                 death       1.00      1.00      1.00         2\n",
      "             other_aid       0.67      0.67      0.67         3\n",
      "infrastructure_related       0.00      0.00      0.00         2\n",
      "             transport       1.00      1.00      1.00         1\n",
      "             buildings       0.00      0.00      0.00         2\n",
      "           electricity       0.00      0.00      0.00         0\n",
      "                 tools       0.00      0.00      0.00         0\n",
      "             hospitals       0.00      0.00      0.00         0\n",
      "                 shops       0.00      0.00      0.00         0\n",
      "           aid_centers       0.00      0.00      0.00         0\n",
      "  other_infrastructure       0.00      0.00      0.00         2\n",
      "       weather_related       1.00      0.57      0.73         7\n",
      "                floods       1.00      0.33      0.50         3\n",
      "                 storm       1.00      1.00      1.00         1\n",
      "                  fire       0.00      0.00      0.00         0\n",
      "            earthquake       1.00      1.00      1.00         2\n",
      "                  cold       1.00      0.50      0.67         2\n",
      "         other_weather       0.00      0.00      0.00         1\n",
      "         direct_report       0.80      0.50      0.62         8\n",
      "\n",
      "             micro avg       0.83      0.53      0.64        74\n",
      "             macro avg       0.40      0.27      0.31        74\n",
      "          weighted avg       0.77      0.53      0.60        74\n",
      "           samples avg       0.46      0.29      0.31        74\n",
      "\n"
     ]
    },
    {
     "name": "stderr",
     "output_type": "stream",
     "text": [
      "/Users/kevin/opt/anaconda3/lib/python3.8/site-packages/sklearn/metrics/_classification.py:1245: UndefinedMetricWarning: Precision and F-score are ill-defined and being set to 0.0 in labels with no predicted samples. Use `zero_division` parameter to control this behavior.\n",
      "  _warn_prf(average, modifier, msg_start, len(result))\n",
      "/Users/kevin/opt/anaconda3/lib/python3.8/site-packages/sklearn/metrics/_classification.py:1245: UndefinedMetricWarning: Recall and F-score are ill-defined and being set to 0.0 in labels with no true samples. Use `zero_division` parameter to control this behavior.\n",
      "  _warn_prf(average, modifier, msg_start, len(result))\n",
      "/Users/kevin/opt/anaconda3/lib/python3.8/site-packages/sklearn/metrics/_classification.py:1245: UndefinedMetricWarning: Precision and F-score are ill-defined and being set to 0.0 in samples with no predicted labels. Use `zero_division` parameter to control this behavior.\n",
      "  _warn_prf(average, modifier, msg_start, len(result))\n",
      "/Users/kevin/opt/anaconda3/lib/python3.8/site-packages/sklearn/metrics/_classification.py:1245: UndefinedMetricWarning: Recall and F-score are ill-defined and being set to 0.0 in samples with no true labels. Use `zero_division` parameter to control this behavior.\n",
      "  _warn_prf(average, modifier, msg_start, len(result))\n",
      "/Users/kevin/opt/anaconda3/lib/python3.8/site-packages/sklearn/metrics/_classification.py:1245: UndefinedMetricWarning: Precision and F-score are ill-defined and being set to 0.0 in labels with no predicted samples. Use `zero_division` parameter to control this behavior.\n",
      "  _warn_prf(average, modifier, msg_start, len(result))\n",
      "/Users/kevin/opt/anaconda3/lib/python3.8/site-packages/sklearn/metrics/_classification.py:1245: UndefinedMetricWarning: Recall and F-score are ill-defined and being set to 0.0 in labels with no true samples. Use `zero_division` parameter to control this behavior.\n",
      "  _warn_prf(average, modifier, msg_start, len(result))\n",
      "/Users/kevin/opt/anaconda3/lib/python3.8/site-packages/sklearn/metrics/_classification.py:1245: UndefinedMetricWarning: Precision and F-score are ill-defined and being set to 0.0 in samples with no predicted labels. Use `zero_division` parameter to control this behavior.\n",
      "  _warn_prf(average, modifier, msg_start, len(result))\n",
      "/Users/kevin/opt/anaconda3/lib/python3.8/site-packages/sklearn/metrics/_classification.py:1245: UndefinedMetricWarning: Recall and F-score are ill-defined and being set to 0.0 in samples with no true labels. Use `zero_division` parameter to control this behavior.\n",
      "  _warn_prf(average, modifier, msg_start, len(result))\n"
     ]
    }
   ],
   "source": [
    "# print (f1_score(y_true, y_pred, average=None))\n",
    "# print ('###################################')\n",
    "# print (recall_score(y_true, y_pred, average=None))\n",
    "# print ('###################################')\n",
    "# print (precision_score(y_true, y_pred, average=None))\n",
    "print ('Random Forest Classifer on Train set \\n')\n",
    "print (classification_report(y_train.values, pipeline.predict(X_train), target_names=y_train.columns))\n",
    "\n",
    "print ('###################################')\n",
    "\n",
    "print ('Random Forest Classifer on Test set \\n')\n",
    "print (classification_report(y_true, y_pred, target_names=y_test.columns))"
   ]
  },
  {
   "cell_type": "markdown",
   "metadata": {},
   "source": [
    "### 6. Improve your model\n",
    "Use grid search to find better parameters. "
   ]
  },
  {
   "cell_type": "code",
   "execution_count": 135,
   "metadata": {},
   "outputs": [],
   "source": [
    " # specify parameters for grid search\n",
    "# Reduce cv=2 instead of default cv=5 \n",
    "# Use verbose=2 or 3 to know that the process is running\n",
    "parameters = {'clf__estimator__n_estimators':[100,200],\n",
    "              'clf__estimator__max_depth':[5]}\n",
    "\n",
    "# create grid search object\n",
    "cv = GridSearchCV(pipeline, param_grid=parameters, cv=3, verbose=3)"
   ]
  },
  {
   "cell_type": "code",
   "execution_count": 136,
   "metadata": {},
   "outputs": [
    {
     "name": "stdout",
     "output_type": "stream",
     "text": [
      "Fitting 3 folds for each of 2 candidates, totalling 6 fits\n",
      "[CV 1/3] END clf__estimator__max_depth=5, clf__estimator__n_estimators=100; total time=   3.7s\n",
      "[CV 2/3] END clf__estimator__max_depth=5, clf__estimator__n_estimators=100; total time=   4.8s\n",
      "[CV 3/3] END clf__estimator__max_depth=5, clf__estimator__n_estimators=100; total time=   4.3s\n",
      "[CV 1/3] END clf__estimator__max_depth=5, clf__estimator__n_estimators=200; total time=   7.3s\n",
      "[CV 2/3] END clf__estimator__max_depth=5, clf__estimator__n_estimators=200; total time=   7.7s\n",
      "[CV 3/3] END clf__estimator__max_depth=5, clf__estimator__n_estimators=200; total time=   7.1s\n"
     ]
    },
    {
     "data": {
      "text/plain": [
       "GridSearchCV(cv=3,\n",
       "             estimator=Pipeline(steps=[('vect',\n",
       "                                        CountVectorizer(tokenizer=<function tokenize at 0x7fce0fbc8ee0>)),\n",
       "                                       ('tfidf', TfidfTransformer()),\n",
       "                                       ('clf',\n",
       "                                        MultiOutputClassifier(estimator=RandomForestClassifier()))]),\n",
       "             param_grid={'clf__estimator__max_depth': [5],\n",
       "                         'clf__estimator__n_estimators': [100, 200]},\n",
       "             verbose=3)"
      ]
     },
     "execution_count": 136,
     "metadata": {},
     "output_type": "execute_result"
    }
   ],
   "source": [
    "cv.fit(X_train,y_train)"
   ]
  },
  {
   "cell_type": "code",
   "execution_count": 137,
   "metadata": {},
   "outputs": [
    {
     "data": {
      "text/plain": [
       "{'clf__estimator__max_depth': 5, 'clf__estimator__n_estimators': 100}"
      ]
     },
     "execution_count": 137,
     "metadata": {},
     "output_type": "execute_result"
    }
   ],
   "source": [
    "cv.best_params_"
   ]
  },
  {
   "cell_type": "markdown",
   "metadata": {},
   "source": [
    "### 7. Test your model\n",
    "Show the accuracy, precision, and recall of the tuned model.  \n",
    "\n",
    "Since this project focuses on code quality, process, and  pipelines, there is no minimum performance metric needed to pass. However, make sure to fine tune your models for accuracy, precision and recall to make your project stand out - especially for your portfolio!"
   ]
  },
  {
   "cell_type": "code",
   "execution_count": 144,
   "metadata": {},
   "outputs": [],
   "source": [
    "y_pred_train_cv = cv.predict(X_train)\n",
    "\n",
    "y_pred_test_cv = cv.predict(X_test)"
   ]
  },
  {
   "cell_type": "code",
   "execution_count": 146,
   "metadata": {},
   "outputs": [
    {
     "name": "stdout",
     "output_type": "stream",
     "text": [
      "Random Forest Classifer on Train set \n",
      "\n",
      "                        precision    recall  f1-score   support\n",
      "\n",
      "               request       1.00      0.45      0.62        20\n",
      "                 offer       1.00      1.00      1.00         1\n",
      "           aid_related       0.93      1.00      0.96        41\n",
      "          medical_help       1.00      0.67      0.80         6\n",
      "      medical_products       1.00      1.00      1.00         3\n",
      "     search_and_rescue       1.00      1.00      1.00         1\n",
      "              security       0.00      0.00      0.00         0\n",
      "              military       0.00      0.00      0.00         2\n",
      "           child_alone       0.00      0.00      0.00         0\n",
      "                 water       1.00      1.00      1.00         6\n",
      "                  food       1.00      0.81      0.90        16\n",
      "               shelter       1.00      0.78      0.88         9\n",
      "              clothing       1.00      0.67      0.80         3\n",
      "                 money       1.00      1.00      1.00         2\n",
      "        missing_people       1.00      1.00      1.00         1\n",
      "              refugees       1.00      1.00      1.00         2\n",
      "                 death       1.00      0.75      0.86         4\n",
      "             other_aid       1.00      0.36      0.53        11\n",
      "infrastructure_related       0.00      0.00      0.00         2\n",
      "             transport       1.00      0.83      0.91         6\n",
      "             buildings       1.00      0.67      0.80         6\n",
      "           electricity       1.00      1.00      1.00         2\n",
      "                 tools       0.00      0.00      0.00         0\n",
      "             hospitals       0.00      0.00      0.00         0\n",
      "                 shops       0.00      0.00      0.00         0\n",
      "           aid_centers       0.00      0.00      0.00         0\n",
      "  other_infrastructure       0.00      0.00      0.00         2\n",
      "       weather_related       1.00      0.68      0.81        25\n",
      "                floods       1.00      0.92      0.96        13\n",
      "                 storm       1.00      0.70      0.82        10\n",
      "                  fire       0.00      0.00      0.00         0\n",
      "            earthquake       1.00      1.00      1.00         4\n",
      "                  cold       1.00      1.00      1.00         1\n",
      "         other_weather       0.00      0.00      0.00         2\n",
      "         direct_report       1.00      0.56      0.71        18\n",
      "\n",
      "             micro avg       0.98      0.74      0.84       219\n",
      "             macro avg       0.68      0.57      0.61       219\n",
      "          weighted avg       0.95      0.74      0.81       219\n",
      "           samples avg       0.68      0.53      0.58       219\n",
      "\n",
      "#########################################################################################################\n",
      "Random Forest Classifer on Test set \n",
      "\n",
      "                        precision    recall  f1-score   support\n",
      "\n",
      "               request       0.75      0.43      0.55         7\n",
      "                 offer       0.00      0.00      0.00         0\n",
      "           aid_related       0.92      0.86      0.89        14\n",
      "          medical_help       1.00      0.33      0.50         3\n",
      "      medical_products       0.00      0.00      0.00         1\n",
      "     search_and_rescue       0.00      0.00      0.00         0\n",
      "              security       0.00      0.00      0.00         0\n",
      "              military       0.00      0.00      0.00         1\n",
      "           child_alone       0.00      0.00      0.00         0\n",
      "                 water       1.00      0.50      0.67         2\n",
      "                  food       0.00      0.00      0.00         3\n",
      "               shelter       1.00      0.33      0.50         6\n",
      "              clothing       0.00      0.00      0.00         0\n",
      "                 money       0.00      0.00      0.00         0\n",
      "        missing_people       0.00      0.00      0.00         0\n",
      "              refugees       0.00      0.00      0.00         1\n",
      "                 death       1.00      0.50      0.67         2\n",
      "             other_aid       0.00      0.00      0.00         3\n",
      "infrastructure_related       0.00      0.00      0.00         2\n",
      "             transport       1.00      1.00      1.00         1\n",
      "             buildings       0.00      0.00      0.00         2\n",
      "           electricity       0.00      0.00      0.00         0\n",
      "                 tools       0.00      0.00      0.00         0\n",
      "             hospitals       0.00      0.00      0.00         0\n",
      "                 shops       0.00      0.00      0.00         0\n",
      "           aid_centers       0.00      0.00      0.00         0\n",
      "  other_infrastructure       0.00      0.00      0.00         2\n",
      "       weather_related       1.00      0.14      0.25         7\n",
      "                floods       1.00      0.33      0.50         3\n",
      "                 storm       1.00      1.00      1.00         1\n",
      "                  fire       0.00      0.00      0.00         0\n",
      "            earthquake       1.00      1.00      1.00         2\n",
      "                  cold       1.00      0.50      0.67         2\n",
      "         other_weather       0.00      0.00      0.00         1\n",
      "         direct_report       1.00      0.38      0.55         8\n",
      "\n",
      "             micro avg       0.88      0.41      0.56        74\n",
      "             macro avg       0.36      0.21      0.25        74\n",
      "          weighted avg       0.75      0.41      0.49        74\n",
      "           samples avg       0.47      0.23      0.28        74\n",
      "\n"
     ]
    },
    {
     "name": "stderr",
     "output_type": "stream",
     "text": [
      "/Users/kevin/opt/anaconda3/lib/python3.8/site-packages/sklearn/metrics/_classification.py:1245: UndefinedMetricWarning: Precision and F-score are ill-defined and being set to 0.0 in labels with no predicted samples. Use `zero_division` parameter to control this behavior.\n",
      "  _warn_prf(average, modifier, msg_start, len(result))\n",
      "/Users/kevin/opt/anaconda3/lib/python3.8/site-packages/sklearn/metrics/_classification.py:1245: UndefinedMetricWarning: Recall and F-score are ill-defined and being set to 0.0 in labels with no true samples. Use `zero_division` parameter to control this behavior.\n",
      "  _warn_prf(average, modifier, msg_start, len(result))\n",
      "/Users/kevin/opt/anaconda3/lib/python3.8/site-packages/sklearn/metrics/_classification.py:1245: UndefinedMetricWarning: Precision and F-score are ill-defined and being set to 0.0 in samples with no predicted labels. Use `zero_division` parameter to control this behavior.\n",
      "  _warn_prf(average, modifier, msg_start, len(result))\n",
      "/Users/kevin/opt/anaconda3/lib/python3.8/site-packages/sklearn/metrics/_classification.py:1245: UndefinedMetricWarning: Recall and F-score are ill-defined and being set to 0.0 in samples with no true labels. Use `zero_division` parameter to control this behavior.\n",
      "  _warn_prf(average, modifier, msg_start, len(result))\n",
      "/Users/kevin/opt/anaconda3/lib/python3.8/site-packages/sklearn/metrics/_classification.py:1245: UndefinedMetricWarning: Precision and F-score are ill-defined and being set to 0.0 in labels with no predicted samples. Use `zero_division` parameter to control this behavior.\n",
      "  _warn_prf(average, modifier, msg_start, len(result))\n",
      "/Users/kevin/opt/anaconda3/lib/python3.8/site-packages/sklearn/metrics/_classification.py:1245: UndefinedMetricWarning: Recall and F-score are ill-defined and being set to 0.0 in labels with no true samples. Use `zero_division` parameter to control this behavior.\n",
      "  _warn_prf(average, modifier, msg_start, len(result))\n",
      "/Users/kevin/opt/anaconda3/lib/python3.8/site-packages/sklearn/metrics/_classification.py:1245: UndefinedMetricWarning: Precision and F-score are ill-defined and being set to 0.0 in samples with no predicted labels. Use `zero_division` parameter to control this behavior.\n",
      "  _warn_prf(average, modifier, msg_start, len(result))\n",
      "/Users/kevin/opt/anaconda3/lib/python3.8/site-packages/sklearn/metrics/_classification.py:1245: UndefinedMetricWarning: Recall and F-score are ill-defined and being set to 0.0 in samples with no true labels. Use `zero_division` parameter to control this behavior.\n",
      "  _warn_prf(average, modifier, msg_start, len(result))\n"
     ]
    }
   ],
   "source": [
    "print ('Random Forest Classifer on Train set \\n')\n",
    "print (classification_report(y_train.values, y_pred_train_cv, target_names=y_train.columns))\n",
    "\n",
    "print ('#########################################################################################################')\n",
    "\n",
    "print ('Random Forest Classifer on Test set \\n')\n",
    "print (classification_report(y_test.values, y_pred_test_cv, target_names=y_test.columns))"
   ]
  },
  {
   "cell_type": "code",
   "execution_count": 148,
   "metadata": {},
   "outputs": [
    {
     "name": "stdout",
     "output_type": "stream",
     "text": [
      "GridSearch rfc Accuracy\n",
      "request                   0.807692\n",
      "offer                     1.000000\n",
      "aid_related               0.884615\n",
      "medical_help              0.923077\n",
      "medical_products          0.961538\n",
      "search_and_rescue         0.961538\n",
      "security                  1.000000\n",
      "military                  0.961538\n",
      "child_alone               1.000000\n",
      "water                     0.961538\n",
      "food                      0.884615\n",
      "shelter                   0.846154\n",
      "clothing                  1.000000\n",
      "money                     1.000000\n",
      "missing_people            1.000000\n",
      "refugees                  0.923077\n",
      "death                     0.961538\n",
      "other_aid                 0.884615\n",
      "infrastructure_related    0.923077\n",
      "transport                 1.000000\n",
      "buildings                 0.923077\n",
      "electricity               1.000000\n",
      "tools                     1.000000\n",
      "hospitals                 1.000000\n",
      "shops                     1.000000\n",
      "aid_centers               1.000000\n",
      "other_infrastructure      0.923077\n",
      "weather_related           0.769231\n",
      "floods                    0.923077\n",
      "storm                     1.000000\n",
      "fire                      1.000000\n",
      "earthquake                1.000000\n",
      "cold                      0.961538\n",
      "other_weather             0.961538\n",
      "direct_report             0.807692\n",
      "dtype: float64\n"
     ]
    }
   ],
   "source": [
    "# accuracy score on test set\n",
    "print('GridSearch rfc Accuracy')\n",
    "print((y_pred_test_cv == y_test).mean())"
   ]
  },
  {
   "cell_type": "markdown",
   "metadata": {},
   "source": [
    "### 8. Try improving your model further. Here are a few ideas:\n",
    "* try other machine learning algorithms\n",
    "* add other features besides the TF-IDF"
   ]
  },
  {
   "cell_type": "markdown",
   "metadata": {},
   "source": [
    "##### 8a. try other machine learning algorithms - classifier\n",
    "1. GBM - gradient boosting classifier - GradientBoostingClassifier\n",
    "2. KNN - k-nearest neighbours classifer - KNeighborsClassifier\n",
    "3. SVR - support vector classifier - SVC (Noted: larger datasets consider using LinearSVC or SGDClassifier)\n",
    "..."
   ]
  },
  {
   "cell_type": "code",
   "execution_count": null,
   "metadata": {},
   "outputs": [],
   "source": []
  },
  {
   "cell_type": "markdown",
   "metadata": {},
   "source": [
    "##### 8b. add other features\n",
    "1. add distaster word extractor"
   ]
  },
  {
   "cell_type": "code",
   "execution_count": 155,
   "metadata": {},
   "outputs": [],
   "source": [
    "from sklearn.pipeline import Pipeline, FeatureUnion\n",
    "from sklearn.base import BaseEstimator, TransformerMixin"
   ]
  },
  {
   "cell_type": "code",
   "execution_count": 156,
   "metadata": {},
   "outputs": [],
   "source": [
    "# A custom transformer which will identify buzzwords signaling disaster\n",
    "class DisasterWordExtractor(BaseEstimator, TransformerMixin):\n",
    "\n",
    "    def disaster_words(self, text):\n",
    "        \"\"\"\n",
    "        INPUT: text - string, raw text data\n",
    "        OUTPUT: bool -bool object, True or False\n",
    "        \"\"\"\n",
    "        # list of words that are commonly used during a disaster event\n",
    "        disaster_words = ['tsunami','volcano','tornado','avalanche','earthquake','blizzard','drought','bushfire',\n",
    "                          'tremor','duststorm','magma','twister','windstorm','heat','cyclone','fire','flood',\n",
    "                          'hailstorm','lava','lightning','high-pressure','hail','hurricane','seismic','erosion',\n",
    "                          'whirlpool','Richter scale','whirlwind','cloud','thunderstorm','barometer',\n",
    "                          'gale','blackout','gust','force','low-pressure','volt','snowstorm','rainstorm','storm',\n",
    "                          'nimbus','violentstorm','sandstorm','casualty','fatal','fatality','cumulonimbus','death',\n",
    "                          'lost','destruction','money','tension','cataclysm','damage','uproot','underground',\n",
    "                          'destroy','arsonist','arson','rescue','permafrost','disaster','fault','scientist','shelter']\n",
    "\n",
    "        # lemmatize the buzzwords\n",
    "        lemmatized_words = [WordNetLemmatizer().lemmatize(w, pos='v') for w in disaster_words]\n",
    "        # Get the stem words of each word in lemmatized_words\n",
    "        stem_disaster_words = [PorterStemmer().stem(w) for w in lemmatized_words]\n",
    "\n",
    "        # tokenize the input text\n",
    "        clean_tokens = tokenize(text)\n",
    "        for token in clean_tokens:\n",
    "            if token in stem_disaster_words:\n",
    "                return True\n",
    "        return False\n",
    "\n",
    "    def fit(self,X,y=None):\n",
    "        return self\n",
    "\n",
    "    def transform(self,X):\n",
    "        X_disaster_words = pd.Series(X).apply(self.disaster_words)\n",
    "        return pd.DataFrame(X_disaster_words)"
   ]
  },
  {
   "cell_type": "code",
   "execution_count": 157,
   "metadata": {},
   "outputs": [],
   "source": [
    "pipeline_2 = Pipeline([\n",
    "    ('features',FeatureUnion([\n",
    "        ('text_pipeline',Pipeline([\n",
    "            ('vect',CountVectorizer(tokenizer=tokenize)),\n",
    "            ('tfidf',TfidfTransformer())\n",
    "            ])),\n",
    "        ('disaster_words',DisasterWordExtractor()) # custom transformer - disaster word extractor\n",
    "        ])),\n",
    "    ('clf',MultiOutputClassifier(RandomForestClassifier()))\n",
    "    ])"
   ]
  },
  {
   "cell_type": "code",
   "execution_count": 1,
   "metadata": {},
   "outputs": [
    {
     "ename": "NameError",
     "evalue": "name 'pipeline_2' is not defined",
     "output_type": "error",
     "traceback": [
      "\u001b[0;31m---------------------------------------------------------------------------\u001b[0m",
      "\u001b[0;31mNameError\u001b[0m                                 Traceback (most recent call last)",
      "\u001b[0;32m<ipython-input-1-c1ae5fe8d93b>\u001b[0m in \u001b[0;36m<module>\u001b[0;34m\u001b[0m\n\u001b[1;32m      1\u001b[0m \u001b[0;31m# train classifier (pipeline)\u001b[0m\u001b[0;34m\u001b[0m\u001b[0;34m\u001b[0m\u001b[0;34m\u001b[0m\u001b[0m\n\u001b[0;32m----> 2\u001b[0;31m \u001b[0mpipeline_2\u001b[0m\u001b[0;34m.\u001b[0m\u001b[0mfit\u001b[0m\u001b[0;34m(\u001b[0m\u001b[0mX_train\u001b[0m\u001b[0;34m,\u001b[0m \u001b[0my_train\u001b[0m\u001b[0;34m)\u001b[0m\u001b[0;34m\u001b[0m\u001b[0;34m\u001b[0m\u001b[0m\n\u001b[0m\u001b[1;32m      3\u001b[0m \u001b[0;34m\u001b[0m\u001b[0m\n\u001b[1;32m      4\u001b[0m \u001b[0my_true\u001b[0m \u001b[0;34m=\u001b[0m \u001b[0my_test\u001b[0m\u001b[0;34m.\u001b[0m\u001b[0mvalues\u001b[0m\u001b[0;34m\u001b[0m\u001b[0;34m\u001b[0m\u001b[0m\n\u001b[1;32m      5\u001b[0m \u001b[0;31m# predict on test data\u001b[0m\u001b[0;34m\u001b[0m\u001b[0;34m\u001b[0m\u001b[0;34m\u001b[0m\u001b[0m\n",
      "\u001b[0;31mNameError\u001b[0m: name 'pipeline_2' is not defined"
     ]
    }
   ],
   "source": [
    "# train classifier (pipeline)\n",
    "pipeline_2.fit(X_train, y_train)\n",
    "\n",
    "y_true = y_test.values\n",
    "# predict on test data\n",
    "y_pred_2 = pipeline_2.predict(X_test)"
   ]
  },
  {
   "cell_type": "code",
   "execution_count": 163,
   "metadata": {},
   "outputs": [
    {
     "name": "stdout",
     "output_type": "stream",
     "text": [
      "Random Forest Classifer on Train set \n",
      "\n",
      "                        precision    recall  f1-score   support\n",
      "\n",
      "               request       0.94      0.85      0.89        20\n",
      "                 offer       1.00      1.00      1.00         1\n",
      "           aid_related       0.93      1.00      0.96        41\n",
      "          medical_help       1.00      0.67      0.80         6\n",
      "      medical_products       1.00      1.00      1.00         3\n",
      "     search_and_rescue       1.00      1.00      1.00         1\n",
      "              security       0.00      0.00      0.00         0\n",
      "              military       0.50      0.50      0.50         2\n",
      "           child_alone       0.00      0.00      0.00         0\n",
      "                 water       1.00      1.00      1.00         6\n",
      "                  food       1.00      1.00      1.00        16\n",
      "               shelter       1.00      0.89      0.94         9\n",
      "              clothing       1.00      1.00      1.00         3\n",
      "                 money       1.00      1.00      1.00         2\n",
      "        missing_people       1.00      1.00      1.00         1\n",
      "              refugees       1.00      1.00      1.00         2\n",
      "                 death       1.00      1.00      1.00         4\n",
      "             other_aid       1.00      0.73      0.84        11\n",
      "infrastructure_related       0.00      0.00      0.00         2\n",
      "             transport       1.00      0.83      0.91         6\n",
      "             buildings       1.00      0.67      0.80         6\n",
      "           electricity       1.00      1.00      1.00         2\n",
      "                 tools       0.00      0.00      0.00         0\n",
      "             hospitals       0.00      0.00      0.00         0\n",
      "                 shops       0.00      0.00      0.00         0\n",
      "           aid_centers       0.00      0.00      0.00         0\n",
      "  other_infrastructure       0.00      0.00      0.00         2\n",
      "       weather_related       1.00      0.92      0.96        25\n",
      "                floods       1.00      0.92      0.96        13\n",
      "                 storm       0.90      0.90      0.90        10\n",
      "                  fire       0.00      0.00      0.00         0\n",
      "            earthquake       1.00      1.00      1.00         4\n",
      "                  cold       1.00      1.00      1.00         1\n",
      "         other_weather       0.00      0.00      0.00         2\n",
      "         direct_report       0.93      0.78      0.85        18\n",
      "\n",
      "             micro avg       0.96      0.88      0.92       219\n",
      "             macro avg       0.69      0.65      0.67       219\n",
      "          weighted avg       0.94      0.88      0.90       219\n",
      "           samples avg       0.70      0.65      0.66       219\n",
      "\n",
      "###################################\n",
      "Random Forest Classifer on Test set \n",
      "\n",
      "                        precision    recall  f1-score   support\n",
      "\n",
      "               request       0.57      0.57      0.57         7\n",
      "                 offer       0.00      0.00      0.00         0\n",
      "           aid_related       0.93      0.93      0.93        14\n",
      "          medical_help       1.00      0.33      0.50         3\n",
      "      medical_products       0.00      0.00      0.00         1\n",
      "     search_and_rescue       0.00      0.00      0.00         0\n",
      "              security       0.00      0.00      0.00         0\n",
      "              military       0.00      0.00      0.00         1\n",
      "           child_alone       0.00      0.00      0.00         0\n",
      "                 water       1.00      0.50      0.67         2\n",
      "                  food       1.00      0.33      0.50         3\n",
      "               shelter       1.00      0.33      0.50         6\n",
      "              clothing       0.00      0.00      0.00         0\n",
      "                 money       0.00      0.00      0.00         0\n",
      "        missing_people       0.00      0.00      0.00         0\n",
      "              refugees       0.00      0.00      0.00         1\n",
      "                 death       1.00      1.00      1.00         2\n",
      "             other_aid       0.67      0.67      0.67         3\n",
      "infrastructure_related       0.00      0.00      0.00         2\n",
      "             transport       1.00      1.00      1.00         1\n",
      "             buildings       0.00      0.00      0.00         2\n",
      "           electricity       0.00      0.00      0.00         0\n",
      "                 tools       0.00      0.00      0.00         0\n",
      "             hospitals       0.00      0.00      0.00         0\n",
      "                 shops       0.00      0.00      0.00         0\n",
      "           aid_centers       0.00      0.00      0.00         0\n",
      "  other_infrastructure       0.00      0.00      0.00         2\n",
      "       weather_related       1.00      0.57      0.73         7\n",
      "                floods       1.00      0.33      0.50         3\n",
      "                 storm       1.00      1.00      1.00         1\n",
      "                  fire       0.00      0.00      0.00         0\n",
      "            earthquake       1.00      1.00      1.00         2\n",
      "                  cold       1.00      0.50      0.67         2\n",
      "         other_weather       0.00      0.00      0.00         1\n",
      "         direct_report       0.80      0.50      0.62         8\n",
      "\n",
      "             micro avg       0.83      0.54      0.66        74\n",
      "             macro avg       0.40      0.27      0.31        74\n",
      "          weighted avg       0.78      0.54      0.61        74\n",
      "           samples avg       0.50      0.30      0.34        74\n",
      "\n"
     ]
    },
    {
     "name": "stderr",
     "output_type": "stream",
     "text": [
      "/Users/kevin/opt/anaconda3/lib/python3.8/site-packages/sklearn/metrics/_classification.py:1245: UndefinedMetricWarning: Precision and F-score are ill-defined and being set to 0.0 in labels with no predicted samples. Use `zero_division` parameter to control this behavior.\n",
      "  _warn_prf(average, modifier, msg_start, len(result))\n",
      "/Users/kevin/opt/anaconda3/lib/python3.8/site-packages/sklearn/metrics/_classification.py:1245: UndefinedMetricWarning: Recall and F-score are ill-defined and being set to 0.0 in labels with no true samples. Use `zero_division` parameter to control this behavior.\n",
      "  _warn_prf(average, modifier, msg_start, len(result))\n",
      "/Users/kevin/opt/anaconda3/lib/python3.8/site-packages/sklearn/metrics/_classification.py:1245: UndefinedMetricWarning: Precision and F-score are ill-defined and being set to 0.0 in samples with no predicted labels. Use `zero_division` parameter to control this behavior.\n",
      "  _warn_prf(average, modifier, msg_start, len(result))\n",
      "/Users/kevin/opt/anaconda3/lib/python3.8/site-packages/sklearn/metrics/_classification.py:1245: UndefinedMetricWarning: Recall and F-score are ill-defined and being set to 0.0 in samples with no true labels. Use `zero_division` parameter to control this behavior.\n",
      "  _warn_prf(average, modifier, msg_start, len(result))\n",
      "/Users/kevin/opt/anaconda3/lib/python3.8/site-packages/sklearn/metrics/_classification.py:1245: UndefinedMetricWarning: Precision and F-score are ill-defined and being set to 0.0 in labels with no predicted samples. Use `zero_division` parameter to control this behavior.\n",
      "  _warn_prf(average, modifier, msg_start, len(result))\n",
      "/Users/kevin/opt/anaconda3/lib/python3.8/site-packages/sklearn/metrics/_classification.py:1245: UndefinedMetricWarning: Recall and F-score are ill-defined and being set to 0.0 in labels with no true samples. Use `zero_division` parameter to control this behavior.\n",
      "  _warn_prf(average, modifier, msg_start, len(result))\n",
      "/Users/kevin/opt/anaconda3/lib/python3.8/site-packages/sklearn/metrics/_classification.py:1245: UndefinedMetricWarning: Precision and F-score are ill-defined and being set to 0.0 in samples with no predicted labels. Use `zero_division` parameter to control this behavior.\n",
      "  _warn_prf(average, modifier, msg_start, len(result))\n",
      "/Users/kevin/opt/anaconda3/lib/python3.8/site-packages/sklearn/metrics/_classification.py:1245: UndefinedMetricWarning: Recall and F-score are ill-defined and being set to 0.0 in samples with no true labels. Use `zero_division` parameter to control this behavior.\n",
      "  _warn_prf(average, modifier, msg_start, len(result))\n"
     ]
    }
   ],
   "source": [
    "print ('Random Forest Classifer on Train set \\n')\n",
    "print (classification_report(y_train.values, pipeline.predict(X_train), target_names=y_train.columns))\n",
    "\n",
    "print ('###################################')\n",
    "\n",
    "print ('Random Forest Classifer on Test set \\n')\n",
    "print (classification_report(y_true, y_pred_2, target_names=y_test.columns))"
   ]
  },
  {
   "cell_type": "markdown",
   "metadata": {},
   "source": [
    "### 9. Export your model as a pickle file"
   ]
  },
  {
   "cell_type": "code",
   "execution_count": 149,
   "metadata": {},
   "outputs": [],
   "source": [
    "import pickle"
   ]
  },
  {
   "cell_type": "code",
   "execution_count": null,
   "metadata": {},
   "outputs": [],
   "source": [
    "# save the model to disk\n",
    "pickle.dump(pipeline, open('classifier.pickle','wb'))"
   ]
  },
  {
   "cell_type": "markdown",
   "metadata": {},
   "source": [
    "### 10. Use this notebook to complete `train.py`\n",
    "Use the template file attached in the Resources folder to write a script that runs the steps above to create a database and export a model based on a new dataset specified by the user."
   ]
  },
  {
   "cell_type": "code",
   "execution_count": null,
   "metadata": {},
   "outputs": [],
   "source": []
  },
  {
   "cell_type": "code",
   "execution_count": null,
   "metadata": {},
   "outputs": [],
   "source": []
  },
  {
   "cell_type": "code",
   "execution_count": null,
   "metadata": {},
   "outputs": [],
   "source": []
  },
  {
   "cell_type": "code",
   "execution_count": 6,
   "metadata": {},
   "outputs": [
    {
     "name": "stdout",
     "output_type": "stream",
     "text": [
      "DisasterResponse\n"
     ]
    }
   ],
   "source": [
    "import os\n",
    "\n",
    "database_filename = 'data/DisasterResponse.db'\n",
    "name = os.path.basename(database_filename).split('.')[0]\n",
    "\n",
    "print (name)"
   ]
  },
  {
   "cell_type": "code",
   "execution_count": null,
   "metadata": {},
   "outputs": [],
   "source": []
  }
 ],
 "metadata": {
  "kernelspec": {
   "display_name": "Python 3",
   "language": "python",
   "name": "python3"
  },
  "language_info": {
   "codemirror_mode": {
    "name": "ipython",
    "version": 3
   },
   "file_extension": ".py",
   "mimetype": "text/x-python",
   "name": "python",
   "nbconvert_exporter": "python",
   "pygments_lexer": "ipython3",
   "version": "3.8.3"
  }
 },
 "nbformat": 4,
 "nbformat_minor": 2
}
